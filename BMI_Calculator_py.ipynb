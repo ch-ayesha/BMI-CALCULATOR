{
  "nbformat": 4,
  "nbformat_minor": 0,
  "metadata": {
    "colab": {
      "provenance": [],
      "gpuType": "T4",
      "authorship_tag": "ABX9TyM1zfOuSLZfT04o7m0zWDn0",
      "include_colab_link": true
    },
    "kernelspec": {
      "name": "python3",
      "display_name": "Python 3"
    },
    "language_info": {
      "name": "python"
    },
    "accelerator": "GPU"
  },
  "cells": [
    {
      "cell_type": "markdown",
      "metadata": {
        "id": "view-in-github",
        "colab_type": "text"
      },
      "source": [
        "<a href=\"https://colab.research.google.com/github/ch-ayesha/BMI-CALCULATOR/blob/main/BMI_Calculator_py.ipynb\" target=\"_parent\"><img src=\"https://colab.research.google.com/assets/colab-badge.svg\" alt=\"Open In Colab\"/></a>"
      ]
    },
    {
      "cell_type": "code",
      "execution_count": null,
      "metadata": {
        "id": "-a6Sd2iacImc"
      },
      "outputs": [],
      "source": [
        "import streamlit as st\n",
        "\n",
        "def calculate_bmi(weight, height):\n",
        "    \"\"\"Calculate BMI using weight (kg) and height (meters).\"\"\"\n",
        "    bmi = weight / (height ** 2)\n",
        "    return bmi\n",
        "\n",
        "def main():\n",
        "    st.title(\"BMI Calculator\")\n",
        "\n",
        "    # Input from user\n",
        "    st.write(\"Enter your details to calculate BMI.\")\n",
        "    weight = st.number_input(\"Weight (kg)\", min_value=0.0, step=0.1)\n",
        "    height = st.number_input(\"Height (meters)\", min_value=0.0, step=0.01)\n",
        "\n",
        "    if st.button(\"Calculate BMI\"):\n",
        "        if weight > 0 and height > 0:\n",
        "            bmi = calculate_bmi(weight, height)\n",
        "            st.write(f\"Your BMI is: {bmi:.2f}\")\n",
        "\n",
        "            # Health status based on BMI\n",
        "            if bmi < 18.5:\n",
        "                st.warning(\"You are underweight.\")\n",
        "            elif 18.5 <= bmi < 24.9:\n",
        "                st.success(\"You have a normal weight.\")\n",
        "            elif 25 <= bmi < 29.9:\n",
        "                st.warning(\"You are overweight.\")\n",
        "            else:\n",
        "                st.error(\"You are obese.\")\n",
        "        else:\n",
        "            st.error(\"Please enter valid weight and height.\")\n",
        "\n",
        "if __name__ == \"__main__\":\n",
        "    main()\n"
      ]
    }
  ]
}